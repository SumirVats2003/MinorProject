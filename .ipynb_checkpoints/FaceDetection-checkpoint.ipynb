{
 "cells": [
  {
   "cell_type": "code",
   "execution_count": 1,
   "id": "2f3c1a8b-39fd-4fa0-84c4-30edb2beb839",
   "metadata": {},
   "outputs": [],
   "source": [
    "import cv2"
   ]
  },
  {
   "cell_type": "code",
   "execution_count": 3,
   "id": "5899f4ce-44c8-4314-865e-3ca7d80fa050",
   "metadata": {},
   "outputs": [],
   "source": [
    "# enable device camera during runtime and capture face\n",
    "face_cap = cv2.CascadeClassifier(\"haarcascade_frontalface_default.xml\")\n",
    "video_cap = cv2.VideoCapture(0)\n",
    "\n",
    "while True:\n",
    "    ret, video_data = video_cap.read()\n",
    "    col = cv2.cvtColor(video_data, cv2.COLOR_BGR2GRAY)\n",
    "\n",
    "    faces = face_cap.detectMultiScale(\n",
    "        col,\n",
    "        scaleFactor = 1.1,\n",
    "        minNeighbors = 5,\n",
    "        minSize = (30, 30),\n",
    "        flags = cv2.CASCADE_SCALE_IMAGE\n",
    "    )\n",
    "\n",
    "    for (x,y,w,h) in faces:\n",
    "        cv2.rectangle(video_data, (x,y), (x+w, y+h), (0,255,0), 2)\n",
    "    \n",
    "    cv2.imshow(\"Video Capture\", video_data)\n",
    "    if cv2.waitKey(10) == ord('a'):\n",
    "        cv2.destroyWindow(\"Video Capture\")\n",
    "        break\n",
    "video_cap.release()"
   ]
  },
  {
   "cell_type": "code",
   "execution_count": null,
   "id": "423e0ad0-f37e-48ca-8eb9-6dcdad952d7d",
   "metadata": {},
   "outputs": [],
   "source": [
    "# # enable device camera during runtime\n",
    "# video_cap = cv2.VideoCapture(0)\n",
    "\n",
    "# while True:\n",
    "#     ret, video_data = video_cap.read()\n",
    "#     cv2.imshow(\"Video Capture\", video_data)\n",
    "#     if cv2.waitKey(10) == ord('a'):\n",
    "#         break\n",
    "# video_cap.release()"
   ]
  }
 ],
 "metadata": {
  "kernelspec": {
   "display_name": "Python 3 (ipykernel)",
   "language": "python",
   "name": "python3"
  },
  "language_info": {
   "codemirror_mode": {
    "name": "ipython",
    "version": 3
   },
   "file_extension": ".py",
   "mimetype": "text/x-python",
   "name": "python",
   "nbconvert_exporter": "python",
   "pygments_lexer": "ipython3",
   "version": "3.10.11"
  }
 },
 "nbformat": 4,
 "nbformat_minor": 5
}
